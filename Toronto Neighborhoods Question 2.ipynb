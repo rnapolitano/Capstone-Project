{
    "cells": [
        {
            "cell_type": "markdown",
            "metadata": {},
            "source": "# Question 1"
        },
        {
            "cell_type": "markdown",
            "metadata": {
                "collapsed": true
            },
            "source": "1.1 Importing BeautifulSoup and extracting the table from the Wikipedia page."
        },
        {
            "cell_type": "code",
            "execution_count": 1,
            "metadata": {},
            "outputs": [],
            "source": "import requests\nfrom bs4 import BeautifulSoup\n\nwiki_url = \"https://en.wikipedia.org/wiki/List_of_postal_codes_of_Canada:_M\"\n\nreq = requests.get(wiki_url)\nsoup = BeautifulSoup(req.content, 'lxml')\ntable_classes = {\"class\": [\"sortable\", \"plainrowheaders\"]}\nwikitables = soup.findAll(\"table\", table_classes)"
        },
        {
            "cell_type": "markdown",
            "metadata": {},
            "source": "1.2 Extracting the table data and writing it into the file 'list_of_postal_codes_of_canada.txt'."
        },
        {
            "cell_type": "code",
            "execution_count": 2,
            "metadata": {},
            "outputs": [],
            "source": "for table in wikitables:\n    ths = table.find_all('th')\n    headings = [th.text.strip() for th in ths]\n    if headings[:3] == ['Postcode', 'Borough', \"Neighbourhood\"]:\n        break\nwith open('list_of_postal_codes_of_canada.txt', 'w') as fo:\n    for tr in table.find_all('tr'):\n        tds = tr.find_all('td')\n        if not tds:\n            continue\n        PostalCode, Borough, Neighborhood = [td.text.strip() for td in tds[:3]]\n        \n        print('; '.join([PostalCode, Borough, Neighborhood]), file=fo)"
        },
        {
            "cell_type": "markdown",
            "metadata": {},
            "source": "1.3 Reading the initial CSV into a Pandas dataframe"
        },
        {
            "cell_type": "code",
            "execution_count": 3,
            "metadata": {},
            "outputs": [
                {
                    "data": {
                        "text/html": "<div>\n<style scoped>\n    .dataframe tbody tr th:only-of-type {\n        vertical-align: middle;\n    }\n\n    .dataframe tbody tr th {\n        vertical-align: top;\n    }\n\n    .dataframe thead th {\n        text-align: right;\n    }\n</style>\n<table border=\"1\" class=\"dataframe\">\n  <thead>\n    <tr style=\"text-align: right;\">\n      <th></th>\n      <th>PostalCode</th>\n      <th>Borough</th>\n      <th>Neighborhood</th>\n    </tr>\n  </thead>\n  <tbody>\n    <tr>\n      <th>0</th>\n      <td>M1A</td>\n      <td>Not assigned</td>\n      <td></td>\n    </tr>\n    <tr>\n      <th>1</th>\n      <td>M2A</td>\n      <td>Not assigned</td>\n      <td></td>\n    </tr>\n    <tr>\n      <th>2</th>\n      <td>M3A</td>\n      <td>North York</td>\n      <td>Parkwoods</td>\n    </tr>\n    <tr>\n      <th>3</th>\n      <td>M4A</td>\n      <td>North York</td>\n      <td>Victoria Village</td>\n    </tr>\n    <tr>\n      <th>4</th>\n      <td>M5A</td>\n      <td>Downtown Toronto</td>\n      <td>Regent Park, Harbourfront</td>\n    </tr>\n  </tbody>\n</table>\n</div>",
                        "text/plain": "  PostalCode            Borough                Neighborhood\n0        M1A       Not assigned                            \n1        M2A       Not assigned                            \n2        M3A         North York                   Parkwoods\n3        M4A         North York            Victoria Village\n4        M5A   Downtown Toronto   Regent Park, Harbourfront"
                    },
                    "execution_count": 3,
                    "metadata": {},
                    "output_type": "execute_result"
                }
            ],
            "source": "import pandas as pd\n\ndf = pd.read_csv('list_of_postal_codes_of_canada.txt', sep = ';', header = None, names = ['PostalCode', 'Borough', 'Neighborhood'])\ndf.head()"
        },
        {
            "cell_type": "markdown",
            "metadata": {},
            "source": "1.4 Removing the rows of that do not have any 'Borough' in the dataframe."
        },
        {
            "cell_type": "code",
            "execution_count": 4,
            "metadata": {},
            "outputs": [
                {
                    "name": "stdout",
                    "output_type": "stream",
                    "text": "[False, False, True, True, True]\n180\n"
                },
                {
                    "data": {
                        "text/html": "<div>\n<style scoped>\n    .dataframe tbody tr th:only-of-type {\n        vertical-align: middle;\n    }\n\n    .dataframe tbody tr th {\n        vertical-align: top;\n    }\n\n    .dataframe thead th {\n        text-align: right;\n    }\n</style>\n<table border=\"1\" class=\"dataframe\">\n  <thead>\n    <tr style=\"text-align: right;\">\n      <th></th>\n      <th>PostalCode</th>\n      <th>Borough</th>\n      <th>Neighborhood</th>\n    </tr>\n  </thead>\n  <tbody>\n    <tr>\n      <th>0</th>\n      <td>M3A</td>\n      <td>North York</td>\n      <td>Parkwoods</td>\n    </tr>\n    <tr>\n      <th>1</th>\n      <td>M4A</td>\n      <td>North York</td>\n      <td>Victoria Village</td>\n    </tr>\n    <tr>\n      <th>2</th>\n      <td>M5A</td>\n      <td>Downtown Toronto</td>\n      <td>Regent Park, Harbourfront</td>\n    </tr>\n    <tr>\n      <th>3</th>\n      <td>M6A</td>\n      <td>North York</td>\n      <td>Lawrence Manor, Lawrence Heights</td>\n    </tr>\n    <tr>\n      <th>4</th>\n      <td>M7A</td>\n      <td>Downtown Toronto</td>\n      <td>Queen's Park, Ontario Provincial Government</td>\n    </tr>\n  </tbody>\n</table>\n</div>",
                        "text/plain": "  PostalCode            Borough                                  Neighborhood\n0        M3A         North York                                     Parkwoods\n1        M4A         North York                              Victoria Village\n2        M5A   Downtown Toronto                     Regent Park, Harbourfront\n3        M6A         North York              Lawrence Manor, Lawrence Heights\n4        M7A   Downtown Toronto   Queen's Park, Ontario Provincial Government"
                    },
                    "execution_count": 4,
                    "metadata": {},
                    "output_type": "execute_result"
                }
            ],
            "source": "import re\nbooleans = []\n\nfor result in df.Borough:\n    if not re.search('Not assigned', result):\n        booleans.append(True)\n    else:\n        booleans.append(False)\nprint(booleans[0:5])\nprint(len(booleans))\n\nFiltered = pd.Series(booleans)\n\ncan_data = df[Filtered].reset_index(drop = True)\n\ncan_data.head(5)"
        },
        {
            "cell_type": "markdown",
            "metadata": {},
            "source": "1.5 Grouping the rows based on PostalCode and aggregating neighborhoods with same PostalCode separated with a comma."
        },
        {
            "cell_type": "code",
            "execution_count": 5,
            "metadata": {},
            "outputs": [],
            "source": "new_cd = can_data.astype(str).groupby('PostalCode')['Neighborhood'].agg(','.join).reset_index()\nmerged_cd = pd.merge(can_data, new_cd, on = ['PostalCode'], how = 'inner')\nduplicate_cd = merged_cd.drop(['Neighborhood_x'], axis = 1)\nfinal_cd = duplicate_cd.drop_duplicates(subset='PostalCode')\nfinal_cd.columns = ['PostalCode', 'Borough', 'Neighborhood']\nfinal_cd = final_cd.reset_index(drop = True)"
        },
        {
            "cell_type": "markdown",
            "metadata": {},
            "source": "1.6 Replacing the rows in 'Neighborhood' that has a 'Borough' but 'Neighborhood' is NaN."
        },
        {
            "cell_type": "code",
            "execution_count": 6,
            "metadata": {},
            "outputs": [
                {
                    "data": {
                        "text/html": "<div>\n<style scoped>\n    .dataframe tbody tr th:only-of-type {\n        vertical-align: middle;\n    }\n\n    .dataframe tbody tr th {\n        vertical-align: top;\n    }\n\n    .dataframe thead th {\n        text-align: right;\n    }\n</style>\n<table border=\"1\" class=\"dataframe\">\n  <thead>\n    <tr style=\"text-align: right;\">\n      <th></th>\n      <th>PostalCode</th>\n      <th>Borough</th>\n      <th>Neighborhood</th>\n    </tr>\n  </thead>\n  <tbody>\n    <tr>\n      <th>0</th>\n      <td>M3A</td>\n      <td>North York</td>\n      <td>Parkwoods</td>\n    </tr>\n    <tr>\n      <th>1</th>\n      <td>M4A</td>\n      <td>North York</td>\n      <td>Victoria Village</td>\n    </tr>\n    <tr>\n      <th>2</th>\n      <td>M5A</td>\n      <td>Downtown Toronto</td>\n      <td>Regent Park, Harbourfront</td>\n    </tr>\n    <tr>\n      <th>3</th>\n      <td>M6A</td>\n      <td>North York</td>\n      <td>Lawrence Manor, Lawrence Heights</td>\n    </tr>\n    <tr>\n      <th>4</th>\n      <td>M7A</td>\n      <td>Downtown Toronto</td>\n      <td>Queen's Park, Ontario Provincial Government</td>\n    </tr>\n  </tbody>\n</table>\n</div>",
                        "text/plain": "  PostalCode            Borough                                  Neighborhood\n0        M3A         North York                                     Parkwoods\n1        M4A         North York                              Victoria Village\n2        M5A   Downtown Toronto                     Regent Park, Harbourfront\n3        M6A         North York              Lawrence Manor, Lawrence Heights\n4        M7A   Downtown Toronto   Queen's Park, Ontario Provincial Government"
                    },
                    "execution_count": 6,
                    "metadata": {},
                    "output_type": "execute_result"
                }
            ],
            "source": "import numpy as np\nboolean = []\n\nfor result in final_cd.Neighborhood:\n    if not re.search('Not assigned', result):\n        boolean.append(True)\n    else:\n        boolean.append(False)\n\n\n\nFilter = pd.Series(boolean)\n\nX = final_cd['Neighborhood'].where(boolean, np.nan)\nX = pd.Series(X)\nfinal_cd = final_cd.drop(['Neighborhood'], axis = 1)\n\nfinal_cd['Neighborhood'] = X.values\nfinal_cd[\"Neighborhood\"] = final_cd[\"Neighborhood\"].fillna(final_cd[\"Borough\"])\nfinal_cd.head()"
        },
        {
            "cell_type": "markdown",
            "metadata": {},
            "source": "1.7 Printing the shape of the final version of the dataframe."
        },
        {
            "cell_type": "code",
            "execution_count": 7,
            "metadata": {},
            "outputs": [
                {
                    "data": {
                        "text/plain": "(103, 3)"
                    },
                    "execution_count": 7,
                    "metadata": {},
                    "output_type": "execute_result"
                }
            ],
            "source": "final_cd.shape"
        },
        {
            "cell_type": "markdown",
            "metadata": {},
            "source": "# Question 2"
        },
        {
            "cell_type": "markdown",
            "metadata": {},
            "source": "2.1 Importing Geographical Coordinates into the DF"
        },
        {
            "cell_type": "code",
            "execution_count": 8,
            "metadata": {},
            "outputs": [
                {
                    "data": {
                        "text/html": "<div>\n<style scoped>\n    .dataframe tbody tr th:only-of-type {\n        vertical-align: middle;\n    }\n\n    .dataframe tbody tr th {\n        vertical-align: top;\n    }\n\n    .dataframe thead th {\n        text-align: right;\n    }\n</style>\n<table border=\"1\" class=\"dataframe\">\n  <thead>\n    <tr style=\"text-align: right;\">\n      <th></th>\n      <th>PostalCode</th>\n      <th>Latitude</th>\n      <th>Longitude</th>\n    </tr>\n  </thead>\n  <tbody>\n    <tr>\n      <th>0</th>\n      <td>M1B</td>\n      <td>43.806686</td>\n      <td>-79.194353</td>\n    </tr>\n    <tr>\n      <th>1</th>\n      <td>M1C</td>\n      <td>43.784535</td>\n      <td>-79.160497</td>\n    </tr>\n    <tr>\n      <th>2</th>\n      <td>M1E</td>\n      <td>43.763573</td>\n      <td>-79.188711</td>\n    </tr>\n    <tr>\n      <th>3</th>\n      <td>M1G</td>\n      <td>43.770992</td>\n      <td>-79.216917</td>\n    </tr>\n    <tr>\n      <th>4</th>\n      <td>M1H</td>\n      <td>43.773136</td>\n      <td>-79.239476</td>\n    </tr>\n  </tbody>\n</table>\n</div>",
                        "text/plain": "  PostalCode   Latitude  Longitude\n0        M1B  43.806686 -79.194353\n1        M1C  43.784535 -79.160497\n2        M1E  43.763573 -79.188711\n3        M1G  43.770992 -79.216917\n4        M1H  43.773136 -79.239476"
                    },
                    "execution_count": 8,
                    "metadata": {},
                    "output_type": "execute_result"
                }
            ],
            "source": "\npath = \"http://cocl.us/Geospatial_data\"\n\nll_df = pd.read_csv(path)\nll_df.columns = ['PostalCode', 'Latitude', 'Longitude']\nll_df.head()"
        },
        {
            "cell_type": "markdown",
            "metadata": {},
            "source": "2.2 Merging the dataframes"
        },
        {
            "cell_type": "code",
            "execution_count": 9,
            "metadata": {},
            "outputs": [
                {
                    "data": {
                        "text/html": "<div>\n<style scoped>\n    .dataframe tbody tr th:only-of-type {\n        vertical-align: middle;\n    }\n\n    .dataframe tbody tr th {\n        vertical-align: top;\n    }\n\n    .dataframe thead th {\n        text-align: right;\n    }\n</style>\n<table border=\"1\" class=\"dataframe\">\n  <thead>\n    <tr style=\"text-align: right;\">\n      <th></th>\n      <th>PostalCode</th>\n      <th>Borough</th>\n      <th>Neighborhood</th>\n      <th>Latitude</th>\n      <th>Longitude</th>\n    </tr>\n  </thead>\n  <tbody>\n    <tr>\n      <th>0</th>\n      <td>M3A</td>\n      <td>North York</td>\n      <td>Parkwoods</td>\n      <td>43.753259</td>\n      <td>-79.329656</td>\n    </tr>\n    <tr>\n      <th>1</th>\n      <td>M4A</td>\n      <td>North York</td>\n      <td>Victoria Village</td>\n      <td>43.725882</td>\n      <td>-79.315572</td>\n    </tr>\n    <tr>\n      <th>2</th>\n      <td>M5A</td>\n      <td>Downtown Toronto</td>\n      <td>Regent Park, Harbourfront</td>\n      <td>43.654260</td>\n      <td>-79.360636</td>\n    </tr>\n    <tr>\n      <th>3</th>\n      <td>M6A</td>\n      <td>North York</td>\n      <td>Lawrence Manor, Lawrence Heights</td>\n      <td>43.718518</td>\n      <td>-79.464763</td>\n    </tr>\n    <tr>\n      <th>4</th>\n      <td>M7A</td>\n      <td>Downtown Toronto</td>\n      <td>Queen's Park, Ontario Provincial Government</td>\n      <td>43.662301</td>\n      <td>-79.389494</td>\n    </tr>\n  </tbody>\n</table>\n</div>",
                        "text/plain": "  PostalCode            Borough                                  Neighborhood  \\\n0        M3A         North York                                     Parkwoods   \n1        M4A         North York                              Victoria Village   \n2        M5A   Downtown Toronto                     Regent Park, Harbourfront   \n3        M6A         North York              Lawrence Manor, Lawrence Heights   \n4        M7A   Downtown Toronto   Queen's Park, Ontario Provincial Government   \n\n    Latitude  Longitude  \n0  43.753259 -79.329656  \n1  43.725882 -79.315572  \n2  43.654260 -79.360636  \n3  43.718518 -79.464763  \n4  43.662301 -79.389494  "
                    },
                    "execution_count": 9,
                    "metadata": {},
                    "output_type": "execute_result"
                }
            ],
            "source": "ll_merged_cd = pd.merge(final_cd, ll_df, on = ['PostalCode'], how = 'inner')\nll_merged_cd.head()"
        },
        {
            "cell_type": "code",
            "execution_count": null,
            "metadata": {},
            "outputs": [],
            "source": ""
        }
    ],
    "metadata": {
        "kernelspec": {
            "display_name": "Python 3.6",
            "language": "python",
            "name": "python3"
        },
        "language_info": {
            "codemirror_mode": {
                "name": "ipython",
                "version": 3
            },
            "file_extension": ".py",
            "mimetype": "text/x-python",
            "name": "python",
            "nbconvert_exporter": "python",
            "pygments_lexer": "ipython3",
            "version": "3.6.9"
        }
    },
    "nbformat": 4,
    "nbformat_minor": 1
}